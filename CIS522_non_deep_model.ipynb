{
  "nbformat": 4,
  "nbformat_minor": 0,
  "metadata": {
    "colab": {
      "name": "CIS522_non_deep_model.ipynb",
      "provenance": [],
      "collapsed_sections": []
    },
    "kernelspec": {
      "name": "python3",
      "display_name": "Python 3"
    },
    "language_info": {
      "name": "python"
    }
  },
  "cells": [
    {
      "cell_type": "code",
      "metadata": {
        "colab": {
          "base_uri": "https://localhost:8080/"
        },
        "id": "S0Oz9pxImCj8",
        "outputId": "c1107861-ec37-4429-de2d-a7daf6f0be9d"
      },
      "source": [
        "import numpy as np\n",
        "import pandas as pd\n",
        "import torch\n",
        "!pip3 install transformers\n",
        "import transformers as ppb # pytorch transformers\n",
        "from sklearn.linear_model import LogisticRegression\n",
        "from sklearn.model_selection import cross_val_score\n",
        "from sklearn.model_selection import train_test_split\n",
        "import re"
      ],
      "execution_count": 1,
      "outputs": [
        {
          "output_type": "stream",
          "text": [
            "Requirement already satisfied: transformers in /usr/local/lib/python3.7/dist-packages (4.5.1)\n",
            "Requirement already satisfied: importlib-metadata; python_version < \"3.8\" in /usr/local/lib/python3.7/dist-packages (from transformers) (3.10.1)\n",
            "Requirement already satisfied: numpy>=1.17 in /usr/local/lib/python3.7/dist-packages (from transformers) (1.19.5)\n",
            "Requirement already satisfied: regex!=2019.12.17 in /usr/local/lib/python3.7/dist-packages (from transformers) (2019.12.20)\n",
            "Requirement already satisfied: requests in /usr/local/lib/python3.7/dist-packages (from transformers) (2.23.0)\n",
            "Requirement already satisfied: sacremoses in /usr/local/lib/python3.7/dist-packages (from transformers) (0.0.45)\n",
            "Requirement already satisfied: packaging in /usr/local/lib/python3.7/dist-packages (from transformers) (20.9)\n",
            "Requirement already satisfied: tokenizers<0.11,>=0.10.1 in /usr/local/lib/python3.7/dist-packages (from transformers) (0.10.2)\n",
            "Requirement already satisfied: filelock in /usr/local/lib/python3.7/dist-packages (from transformers) (3.0.12)\n",
            "Requirement already satisfied: tqdm>=4.27 in /usr/local/lib/python3.7/dist-packages (from transformers) (4.41.1)\n",
            "Requirement already satisfied: zipp>=0.5 in /usr/local/lib/python3.7/dist-packages (from importlib-metadata; python_version < \"3.8\"->transformers) (3.4.1)\n",
            "Requirement already satisfied: typing-extensions>=3.6.4; python_version < \"3.8\" in /usr/local/lib/python3.7/dist-packages (from importlib-metadata; python_version < \"3.8\"->transformers) (3.7.4.3)\n",
            "Requirement already satisfied: chardet<4,>=3.0.2 in /usr/local/lib/python3.7/dist-packages (from requests->transformers) (3.0.4)\n",
            "Requirement already satisfied: certifi>=2017.4.17 in /usr/local/lib/python3.7/dist-packages (from requests->transformers) (2020.12.5)\n",
            "Requirement already satisfied: idna<3,>=2.5 in /usr/local/lib/python3.7/dist-packages (from requests->transformers) (2.10)\n",
            "Requirement already satisfied: urllib3!=1.25.0,!=1.25.1,<1.26,>=1.21.1 in /usr/local/lib/python3.7/dist-packages (from requests->transformers) (1.24.3)\n",
            "Requirement already satisfied: click in /usr/local/lib/python3.7/dist-packages (from sacremoses->transformers) (7.1.2)\n",
            "Requirement already satisfied: six in /usr/local/lib/python3.7/dist-packages (from sacremoses->transformers) (1.15.0)\n",
            "Requirement already satisfied: joblib in /usr/local/lib/python3.7/dist-packages (from sacremoses->transformers) (1.0.1)\n",
            "Requirement already satisfied: pyparsing>=2.0.2 in /usr/local/lib/python3.7/dist-packages (from packaging->transformers) (2.4.7)\n"
          ],
          "name": "stdout"
        }
      ]
    },
    {
      "cell_type": "code",
      "metadata": {
        "colab": {
          "base_uri": "https://localhost:8080/",
          "height": 204
        },
        "id": "0I2nKkK1nN9Y",
        "outputId": "6bf06865-a870-495b-83d9-7f90c7480d25"
      },
      "source": [
        "train = pd.read_csv('train_df.csv')\n",
        "dev = pd.read_csv('dev_df.csv')\n",
        "test = pd.read_csv('test_df.csv')\n",
        "train.head()"
      ],
      "execution_count": 2,
      "outputs": [
        {
          "output_type": "execute_result",
          "data": {
            "text/html": [
              "<div>\n",
              "<style scoped>\n",
              "    .dataframe tbody tr th:only-of-type {\n",
              "        vertical-align: middle;\n",
              "    }\n",
              "\n",
              "    .dataframe tbody tr th {\n",
              "        vertical-align: top;\n",
              "    }\n",
              "\n",
              "    .dataframe thead th {\n",
              "        text-align: right;\n",
              "    }\n",
              "</style>\n",
              "<table border=\"1\" class=\"dataframe\">\n",
              "  <thead>\n",
              "    <tr style=\"text-align: right;\">\n",
              "      <th></th>\n",
              "      <th>Tweet</th>\n",
              "      <th>label</th>\n",
              "    </tr>\n",
              "  </thead>\n",
              "  <tbody>\n",
              "    <tr>\n",
              "      <th>0</th>\n",
              "      <td>@liamch88 yeah! :) playing well</td>\n",
              "      <td>0</td>\n",
              "    </tr>\n",
              "    <tr>\n",
              "      <th>1</th>\n",
              "      <td>At least I don't have a guy trying to discoura...</td>\n",
              "      <td>0</td>\n",
              "    </tr>\n",
              "    <tr>\n",
              "      <th>2</th>\n",
              "      <td>UPLIFT: If you're still discouraged it means y...</td>\n",
              "      <td>0</td>\n",
              "    </tr>\n",
              "    <tr>\n",
              "      <th>3</th>\n",
              "      <td>...at your age, the heyday in the blood is tam...</td>\n",
              "      <td>0</td>\n",
              "    </tr>\n",
              "    <tr>\n",
              "      <th>4</th>\n",
              "      <td>i was so embarrassed when she saw us i was lik...</td>\n",
              "      <td>-2</td>\n",
              "    </tr>\n",
              "  </tbody>\n",
              "</table>\n",
              "</div>"
            ],
            "text/plain": [
              "                                               Tweet  label\n",
              "0                   @liamch88 yeah! :) playing well       0\n",
              "1  At least I don't have a guy trying to discoura...      0\n",
              "2  UPLIFT: If you're still discouraged it means y...      0\n",
              "3  ...at your age, the heyday in the blood is tam...      0\n",
              "4  i was so embarrassed when she saw us i was lik...     -2"
            ]
          },
          "metadata": {
            "tags": []
          },
          "execution_count": 2
        }
      ]
    },
    {
      "cell_type": "markdown",
      "metadata": {
        "id": "grBuFOx-n1F-"
      },
      "source": [
        "# Loading the Pre-trained BERT model"
      ]
    },
    {
      "cell_type": "code",
      "metadata": {
        "id": "oa4hBJFgn2Ql"
      },
      "source": [
        "# Import pre-trained DistilBERT model and tokenizer\n",
        "model_class, tokenizer_class, pretrained_weights = (ppb.DistilBertModel, ppb.DistilBertTokenizer, 'distilbert-base-uncased')\n",
        "# Import pre-trained BERT model and tokenizer\n",
        "#model_class, tokenizer_class, pretrained_weights = (ppb.BertModel, ppb.BertTokenizer, 'bert-base-uncased')\n",
        "# Load pretrained model/tokenizer\n",
        "tokenizer = tokenizer_class.from_pretrained(pretrained_weights)"
      ],
      "execution_count": 5,
      "outputs": []
    },
    {
      "cell_type": "code",
      "metadata": {
        "id": "natFrcVmn3zK"
      },
      "source": [
        "def tokenized(dataset):\n",
        "  tokenized = dataset['Tweet'].apply((lambda x: tokenizer.encode(x, add_special_tokens=True))) # This turns every sentence into the list of ids.\n",
        "  # max_len = 0\n",
        "  # for i in tokenized.values:\n",
        "  #   if len(i) > max_len:\n",
        "  #       max_len = len(i)\n",
        "  padded = np.array([i + [0]*(71-len(i)) for i in tokenized.values])\n",
        "  np.array(padded).shape\n",
        "  return padded"
      ],
      "execution_count": 15,
      "outputs": []
    },
    {
      "cell_type": "code",
      "metadata": {
        "colab": {
          "base_uri": "https://localhost:8080/"
        },
        "id": "XGQ2p9fcoDdW",
        "outputId": "e04ad08d-bb1c-4411-de05-20bbe4dda516"
      },
      "source": [
        "train_features = tokenized(train)\n",
        "train_features"
      ],
      "execution_count": 16,
      "outputs": [
        {
          "output_type": "execute_result",
          "data": {
            "text/plain": [
              "array([[  101,  1030,  8230, ...,     0,     0,     0],\n",
              "       [  101,  2012,  2560, ...,     0,     0,     0],\n",
              "       [  101,  2039, 18412, ...,     0,     0,     0],\n",
              "       ...,\n",
              "       [  101, 16360,  4765, ...,     0,     0,     0],\n",
              "       [  101,  1030,  4811, ...,     0,     0,     0],\n",
              "       [  101,  1045,  2572, ...,     0,     0,     0]])"
            ]
          },
          "metadata": {
            "tags": []
          },
          "execution_count": 16
        }
      ]
    },
    {
      "cell_type": "code",
      "metadata": {
        "id": "oC7OAclz-KqA"
      },
      "source": [
        "dev_features = tokenized(dev)"
      ],
      "execution_count": 17,
      "outputs": []
    },
    {
      "cell_type": "code",
      "metadata": {
        "id": "TbhhvHKM9fM2"
      },
      "source": [
        "train_labels = train['label']\n",
        "dev_labels = dev['label']"
      ],
      "execution_count": 18,
      "outputs": []
    },
    {
      "cell_type": "code",
      "metadata": {
        "colab": {
          "base_uri": "https://localhost:8080/"
        },
        "id": "6_0oi5F59WJv",
        "outputId": "5dffe832-098a-4056-e402-326abe824016"
      },
      "source": [
        "lr_clf = LogisticRegression()\n",
        "lr_clf.fit(train_features, train_labels)\n",
        "dev_predict = lr_clf.predict(dev_features)"
      ],
      "execution_count": 19,
      "outputs": [
        {
          "output_type": "stream",
          "text": [
            "/usr/local/lib/python3.7/dist-packages/sklearn/linear_model/_logistic.py:940: ConvergenceWarning: lbfgs failed to converge (status=1):\n",
            "STOP: TOTAL NO. of ITERATIONS REACHED LIMIT.\n",
            "\n",
            "Increase the number of iterations (max_iter) or scale the data as shown in:\n",
            "    https://scikit-learn.org/stable/modules/preprocessing.html\n",
            "Please also refer to the documentation for alternative solver options:\n",
            "    https://scikit-learn.org/stable/modules/linear_model.html#logistic-regression\n",
            "  extra_warning_msg=_LOGISTIC_SOLVER_CONVERGENCE_MSG)\n"
          ],
          "name": "stderr"
        },
        {
          "output_type": "execute_result",
          "data": {
            "text/plain": [
              "array([ 1,  1,  0, -2,  0,  0, -2,  3, -2, -2, -2, -3, -2,  1, -2,  0,  1,\n",
              "        1,  3,  0, -2, -2,  0, -2,  1,  0,  0,  3,  0,  0,  0,  0, -2,  0,\n",
              "        0,  0,  0,  0,  0,  1,  0,  3, -2,  0,  0,  1, -2, -2,  0, -2,  0,\n",
              "       -2, -2, -3, -2, -2,  0, -3,  0, -2,  0, -2,  2,  0, -2,  0, -2,  1,\n",
              "        1, -2, -2,  0, -3,  0, -2,  0,  0, -2, -2,  1,  0,  0, -1,  1, -2,\n",
              "       -2, -1,  0, -2,  0,  0,  1,  0,  0, -2,  0,  0,  0,  0,  0,  1,  0,\n",
              "        0,  0, -2,  0,  0,  0,  0,  1,  0,  0,  3,  0, -2,  0,  0, -2,  0,\n",
              "        0,  0, -2, -2, -2, -2, -2,  0, -3, -2,  0,  0,  0, -3,  0, -3,  0,\n",
              "        0,  0,  0,  0,  0, -2,  2, -2,  0,  3,  0,  0, -2,  0,  0,  1, -1,\n",
              "       -2,  1,  0,  0,  0,  1,  0, -2,  0,  0, -2,  0,  0,  0, -3,  1, -2,\n",
              "       -2,  0,  0,  0,  3,  0,  3,  1,  1,  0,  0,  1,  2,  0,  0,  0, -2,\n",
              "        0,  0,  0,  0, -3,  3,  0,  1,  0,  1,  0,  0,  0,  0,  0, -2,  0,\n",
              "        0, -2,  0,  3,  0,  3,  3,  0,  0,  0,  0,  0, -2, -1,  0,  0,  1,\n",
              "       -2, -2,  3, -1,  1, -2,  3,  1, -2,  0, -2,  0,  0,  0,  0, -2,  0,\n",
              "       -2,  3,  0, -2,  1, -2,  0,  0,  0, -2,  0,  1,  0,  0,  0,  0,  3,\n",
              "        0,  0,  0,  0,  0,  0,  2, -2,  0,  2,  3,  0, -2,  0,  1,  0,  0,\n",
              "        0, -2,  1,  0,  0, -2, -2,  0,  3, -2,  3,  0,  0,  1,  0,  0,  0,\n",
              "       -2,  2, -2, -2, -2,  0, -2, -2,  0,  0,  0,  0,  1, -2,  0,  2, -2,\n",
              "        0, -2, -2,  3, -1,  0,  0,  0,  3,  3,  0,  0,  0,  0, -2, -2,  0,\n",
              "        0, -2, -2,  0,  2,  3,  0, -3,  3,  0, -1,  1,  0,  0, -2, -2,  1,\n",
              "       -2,  0, -2, -2,  0,  0,  0, -2,  0,  0,  0,  0, -2,  0, -2, -2,  0,\n",
              "        0,  3, -3,  3, -2,  0,  0,  0,  0,  1,  0,  3,  3,  0,  0,  0,  0,\n",
              "        0,  0,  0,  0,  0, -2,  0,  0,  0,  0,  0,  3,  0, -3, -2,  1,  0,\n",
              "       -2,  1,  0,  0,  0,  0, -2,  0, -2,  1, -3, -3, -2,  3,  0,  0,  0,\n",
              "        0, -2, -2, -2,  0,  0,  0,  0,  2, -2, -3, -3,  0, -2, -2,  1,  0,\n",
              "        0,  0,  3,  0,  1, -1,  0,  0,  0,  0, -2,  1,  0,  0, -3, -2,  0,\n",
              "        1, -2,  2,  0, -2, -2, -2])"
            ]
          },
          "metadata": {
            "tags": []
          },
          "execution_count": 19
        }
      ]
    },
    {
      "cell_type": "code",
      "metadata": {
        "colab": {
          "base_uri": "https://localhost:8080/"
        },
        "id": "S2q9ZF41-9IG",
        "outputId": "4030d13a-9fb6-4681-86c3-07e24bfbc32f"
      },
      "source": [
        "from sklearn.metrics import precision_score\n",
        "from sklearn.metrics import recall_score\n",
        "from sklearn.metrics import f1_score\n",
        "from sklearn.metrics import roc_auc_score\n",
        "print('f1 score is', f1_score(dev_predict, dev_labels,average='micro'))"
      ],
      "execution_count": 22,
      "outputs": [
        {
          "output_type": "stream",
          "text": [
            "f1 score is 0.20267260579064586\n"
          ],
          "name": "stdout"
        }
      ]
    }
  ]
}