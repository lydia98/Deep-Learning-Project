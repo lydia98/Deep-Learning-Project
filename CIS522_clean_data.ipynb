{
  "nbformat": 4,
  "nbformat_minor": 0,
  "metadata": {
    "colab": {
      "name": "CIS522_clean_data.ipynb",
      "provenance": [],
      "collapsed_sections": []
    },
    "kernelspec": {
      "name": "python3",
      "display_name": "Python 3"
    },
    "language_info": {
      "name": "python"
    }
  },
  "cells": [
    {
      "cell_type": "code",
      "metadata": {
        "id": "-cufGo8VmOUr"
      },
      "source": [
        "import numpy as np\n",
        "import pandas as pd\n",
        "import torch\n",
        "!pip3 install transformers\n",
        "import transformers as ppb # pytorch transformers\n",
        "from sklearn.linear_model import LogisticRegression\n",
        "from sklearn.model_selection import cross_val_score\n",
        "from sklearn.model_selection import train_test_split\n",
        "import re"
      ],
      "execution_count": null,
      "outputs": []
    },
    {
      "cell_type": "markdown",
      "metadata": {
        "id": "R71h93eTnAJQ"
      },
      "source": [
        "# First dataset"
      ]
    },
    {
      "cell_type": "code",
      "metadata": {
        "id": "dM7MEKXNmUeY"
      },
      "source": [
        "def read_file(path):\n",
        "  data = [re.split(r'\\t+',line) for line in open(path, mode=\"r\", errors=\"ignore\").readlines() if line.strip()]\n",
        "  df = pd.DataFrame(data)\n",
        "  headers = df.iloc[0]\n",
        "  new_df  = pd.DataFrame(df.values[1:], columns=headers)\n",
        "  return new_df\n",
        "\n",
        "train_df = read_file('2018-Valence-oc-En-train.txt')\n",
        "dev_df = read_file('2018-Valence-oc-En-dev.txt')\n",
        "test_df = read_file('2018-Valence-oc-En-test-gold.txt')"
      ],
      "execution_count": null,
      "outputs": []
    },
    {
      "cell_type": "code",
      "metadata": {
        "id": "eGK5rhncmXDL"
      },
      "source": [
        "def clean_data(df):\n",
        "  df['label'] = df['Intensity Class\\n'].str.split(':').str[0]\n",
        "  df_clean = df.iloc[:,[1,4]]\n",
        "  return df_clean\n",
        "\n",
        "train_df = clean_data(train_df)\n",
        "dev_df = clean_data(dev_df)\n",
        "test_df = clean_data(test_df)\n",
        "train_df.head()"
      ],
      "execution_count": null,
      "outputs": []
    },
    {
      "cell_type": "code",
      "metadata": {
        "id": "YIiqMXCNmXhS"
      },
      "source": [
        "# train_df.to_csv (r'train_df.csv', index = False, header=True)\n",
        "# from google.colab import files\n",
        "# files.download(\"train_df.csv\")\n",
        "\n",
        "# dev_df.to_csv (r'dev_df.csv', index = False, header=True)\n",
        "# files.download(\"dev_df.csv\")\n",
        "\n",
        "# test_df.to_csv (r'test_df.csv', index = False, header=True)\n",
        "# files.download(\"test_df.csv\")"
      ],
      "execution_count": null,
      "outputs": []
    },
    {
      "cell_type": "code",
      "metadata": {
        "id": "LOhafzoUmaMG"
      },
      "source": [
        "#from wordsegment import load, segment # to desegment the words\n",
        "import html\n",
        "\n",
        "def replace(text):\n",
        "  text = text.replace(r\"\\n\", \" \")\n",
        "  #text = re.sub(r\"?\\n\", \" \",text)\n",
        "  text = re.sub(r'https?:\\/\\/(www\\.)?[-a-zA-Z0-9@:%._\\+~#=]{2,256}\\.[a-z]{2,6}\\b([-a-zA-Z0-9@:%_\\+.~#?&//=]*)', '', text, flags=re.MULTILINE)\n",
        "  text = re.sub(r'[-a-zA-Z0-9@:%._\\+~#=]{2,256}\\.[a-z]{2,6}\\b([-a-zA-Z0-9@:%_\\+.~#?&//=]*)', '', text, flags=re.MULTILINE) # to remove other url links\n",
        "  text = html.unescape(text)\n",
        "  text = text.lower()\n",
        "  text = re.sub(r\"\\’\", \"\\'\", text)\n",
        "  text = re.sub(r\"won\\'t\", \"will not\", text)\n",
        "  text = re.sub(r\"can\\'t\", \"can not\", text)\n",
        "  text = re.sub(r\"ain\\'t\", \"am not\", text)\n",
        "  text = re.sub(r\"n\\'t\", \" not\", text)\n",
        "  text = re.sub(r\"\\'re\", \" are\", text)\n",
        "  text = re.sub(r\"\\'s\", \"\", text)\n",
        "  text = re.sub(r\"\\'d\", \" would\", text)\n",
        "  text = re.sub(r\"\\'ll\", \" will\", text)\n",
        "  text = re.sub(r\"\\'t\", \" not\", text)\n",
        "  text = re.sub(r\"\\'ve\", \" have\", text)\n",
        "  text = re.sub(r\"\\'m\", \" am\", text)\n",
        "  \n",
        "  text = re.sub(r\"(rt @[-a-zA-Z0-9@:%._\\+~#=]+)|(@[-a-zA-Z0-9@:%._\\+~#=]+)|([^0-9A-Za-z \\t])|(\\w+:\\/\\/\\S+)\", \"\", text)\n",
        "  return text\n",
        "\n",
        "train_df['Tweet'] = train_df['Tweet'].apply(lambda x: replace(x))\n",
        "# train_df['Tweet']=train_df['Tweet'].apply(lambda x: replace(x))\n",
        "dev_df['Tweet']=dev_df['Tweet'].apply(lambda x: replace(x))\n",
        "test_df['Tweet']=test_df['Tweet'].apply(lambda x: replace(x))\n",
        "train_df.head()\n"
      ],
      "execution_count": null,
      "outputs": []
    },
    {
      "cell_type": "code",
      "metadata": {
        "id": "MVSn3Tnpmbtg"
      },
      "source": [
        "# train_df.to_csv (r'train_df_clean.csv', index = False, header=True)\n",
        "# from google.colab import files\n",
        "# files.download(\"train_df_clean.csv\")\n",
        "\n",
        "# dev_df.to_csv (r'dev_df_clean.csv', index = False, header=True)\n",
        "# files.download(\"dev_df_clean.csv\")\n",
        "\n",
        "# test_df.to_csv (r'test_df_clean.csv', index = False, header=True)\n",
        "# files.download(\"test_df_clean.csv\")"
      ],
      "execution_count": null,
      "outputs": []
    },
    {
      "cell_type": "code",
      "metadata": {
        "id": "6nw_bUUWmdyJ"
      },
      "source": [
        "count = train_df['Tweet'].str.split().apply(len).value_counts()\n",
        "max(count)"
      ],
      "execution_count": null,
      "outputs": []
    },
    {
      "cell_type": "markdown",
      "metadata": {
        "id": "Ut-ZTvhkmnoe"
      },
      "source": [
        "# Second Dataset"
      ]
    },
    {
      "cell_type": "code",
      "metadata": {
        "id": "pIEIZ8kpmqg1"
      },
      "source": [
        "def clean_data_new(df):\n",
        "  df['label'] = df['Intensity Class\\n'].str.split(':').str[0]\n",
        "  df_clean = df.iloc[:,[0,1,4]]\n",
        "  return df_clean"
      ],
      "execution_count": null,
      "outputs": []
    },
    {
      "cell_type": "code",
      "metadata": {
        "id": "rqoFwpERmr75"
      },
      "source": [
        "fear = read_file('EI-oc-En-fear-train.txt')\n",
        "joy = read_file('EI-oc-En-joy-train.txt')\n",
        "sadness = read_file('EI-oc-En-sadness-train.txt')\n",
        "anger = read_file('EI-oc-En-anger-train.txt')\n",
        "fear = clean_data_new(fear)\n",
        "joy = clean_data_new(joy)\n",
        "sadness = clean_data_new(sadness)\n",
        "anger = clean_data_new(anger)\n",
        "fear.head()"
      ],
      "execution_count": null,
      "outputs": []
    },
    {
      "cell_type": "code",
      "metadata": {
        "id": "xX6tiu9rmsdW"
      },
      "source": [
        "fear['label'] = fear['label'].astype(int)\n",
        "fear['label']  *= -1\n",
        "fear.head()"
      ],
      "execution_count": null,
      "outputs": []
    },
    {
      "cell_type": "code",
      "metadata": {
        "id": "ww9ZT6_cmuqQ"
      },
      "source": [
        "sadness['label'] = sadness['label'].astype(int)\n",
        "sadness['label']  *= -1\n",
        "sadness.head()"
      ],
      "execution_count": null,
      "outputs": []
    },
    {
      "cell_type": "code",
      "metadata": {
        "id": "E4mhBHKmmv28"
      },
      "source": [
        "anger['label'] = anger['label'].astype(int)\n",
        "anger['label']  *= -1\n",
        "anger.head()"
      ],
      "execution_count": null,
      "outputs": []
    },
    {
      "cell_type": "code",
      "metadata": {
        "id": "9WGN7NalmxO2"
      },
      "source": [
        "frames = [fear, joy, sadness,anger]\n",
        "result = pd.concat(frames)\n",
        "len(result['ID'])"
      ],
      "execution_count": null,
      "outputs": []
    },
    {
      "cell_type": "code",
      "metadata": {
        "id": "5d1SQTdBmyif"
      },
      "source": [
        "train_df = read_file('2018-Valence-oc-En-train.txt')\n",
        "len(train_df)"
      ],
      "execution_count": null,
      "outputs": []
    },
    {
      "cell_type": "code",
      "metadata": {
        "id": "7TgnijQYmzxf"
      },
      "source": [
        "new_df = pd.merge(train_df,result,how=\"inner\",on='ID')"
      ],
      "execution_count": null,
      "outputs": []
    },
    {
      "cell_type": "code",
      "metadata": {
        "id": "0S5hHh3pm0zo"
      },
      "source": [
        "a = new_df['ID']\n",
        "drop_df = result[~result['ID'].isin(a)]\n",
        "len(drop_df)"
      ],
      "execution_count": null,
      "outputs": []
    },
    {
      "cell_type": "code",
      "metadata": {
        "id": "Xopnw8LNm1_V"
      },
      "source": [
        "EI_data = drop_df.iloc[:,[1,2]]\n",
        "EI_data"
      ],
      "execution_count": null,
      "outputs": []
    },
    {
      "cell_type": "code",
      "metadata": {
        "id": "8MTgdOVIm3c_"
      },
      "source": [
        "# EI_data.to_csv (r'EI_data.csv', index = False, header=True)\n",
        "# from google.colab import files\n",
        "# files.download(\"EI_data.csv\")"
      ],
      "execution_count": null,
      "outputs": []
    },
    {
      "cell_type": "code",
      "metadata": {
        "id": "oXtMyxXPm4M_"
      },
      "source": [
        "EI_data['Tweet'] = EI_data['Tweet'].apply(lambda x: replace(x))\n",
        "EI_data.head()"
      ],
      "execution_count": null,
      "outputs": []
    },
    {
      "cell_type": "code",
      "metadata": {
        "id": "lNXNE9uam6a3"
      },
      "source": [
        "# EI_data.to_csv (r'EI_data_clean.csv', index = False, header=True)\n",
        "# from google.colab import files\n",
        "# files.download(\"EI_data_clean.csv\")"
      ],
      "execution_count": null,
      "outputs": []
    },
    {
      "cell_type": "code",
      "metadata": {
        "id": "vn9WpM5Am8H6"
      },
      "source": [
        "# #check_df should be empty\n",
        "# check_df = pd.merge(\n",
        "#     drop_df,\n",
        "#     train_df,\n",
        "#     how=\"inner\",\n",
        "#     on='ID'\n",
        "# )\n",
        "# check_df "
      ],
      "execution_count": null,
      "outputs": []
    }
  ]
}